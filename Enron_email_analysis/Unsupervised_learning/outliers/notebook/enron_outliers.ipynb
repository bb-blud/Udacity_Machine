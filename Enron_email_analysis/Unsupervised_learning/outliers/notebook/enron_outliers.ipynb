{
 "cells": [
  {
   "cell_type": "code",
   "execution_count": 4,
   "metadata": {
    "autoscroll": "json-false",
    "collapsed": false,
    "ein.tags": [
     "worksheet-0"
    ]
   },
   "outputs": [
    {
     "name": "stdout",
     "output_type": "stream",
     "text": [
      "(94, 2)\n"
     ]
    }
   ],
   "source": [
    "#!/usr/bin/python\n",
    "import numpy as np\n",
    "import pickle\n",
    "import sys\n",
    "import matplotlib.pyplot\n",
    "sys.path.append(\"../../tools/\")\n",
    "from feature_format import featureFormat, targetFeatureSplit\n",
    "\n",
    "\n",
    "### read in data dictionary, convert to numpy array\n",
    "data_dict = pickle.load( open(\"../../final_project/final_project_dataset.pkl\", \"r\") )\n",
    "\n",
    "# Remove TOTAL key from data\n",
    "data_dict.pop('TOTAL',0)\n",
    "\n",
    "\n",
    "features = [\"salary\", \"bonus\"]\n",
    "data = featureFormat(data_dict, features)\n",
    "\n",
    "print data.shape"
   ]
  },
  {
   "cell_type": "code",
   "execution_count": 5,
   "metadata": {
    "autoscroll": "json-false",
    "collapsed": false,
    "ein.tags": [
     "worksheet-0"
    ]
   },
   "outputs": [
    {
     "data": {
      "image/png": "[encoded data removed]",
      "text/plain": [
       "<matplotlib.figure.Figure at 0x7fd5e5715a50>"
      ]
     },
     "metadata": {},
     "output_type": "display_data"
    }
   ],
   "source": [
    "### Scatter plot data\n",
    "%matplotlib inline\n",
    "\n",
    "for point in data:\n",
    "    salary = point[0]\n",
    "    bonus = point[1]\n",
    "    matplotlib.pyplot.scatter( salary, bonus )\n",
    "\n",
    "matplotlib.pyplot.xlabel(\"salary\")\n",
    "matplotlib.pyplot.ylabel(\"bonus\")\n",
    "matplotlib.pyplot.show()\n",
    "\n"
   ]
  },
  {
   "cell_type": "code",
   "execution_count": 6,
   "metadata": {
    "autoscroll": "json-false",
    "collapsed": false,
    "ein.tags": [
     "worksheet-0"
    ]
   },
   "outputs": [
    {
     "name": "stdout",
     "output_type": "stream",
     "text": [
      "['LAY KENNETH L', 'SKILLING JEFFREY K']\n"
     ]
    }
   ],
   "source": [
    "## Who's the outlier\n",
    "def findOutliers():\n",
    "    dd = data_dict\n",
    "    # Take out NaN's\n",
    "    bad_keys = [k for k in dd.keys() if dd[k]['bonus'] == 'NaN' or dd[k]['salary'] == 'NaN']\n",
    "    # Find outliers\n",
    "    return [k for k in dd.keys() if k not in bad_keys and dd[k]['bonus'] > 5e6 and dd[k]['salary'] > 1e6]\n",
    "\n",
    "print findOutliers()"
   ]
  },
  {
   "cell_type": "code",
   "execution_count": 11,
   "metadata": {
    "autoscroll": "json-false",
    "collapsed": false,
    "ein.tags": [
     "worksheet-0"
    ]
   },
   "outputs": [
    {
     "name": "stdout",
     "output_type": "stream",
     "text": [
      "493800860944.0\n",
      "493800860944\n",
      "<type 'float'>\n",
      "True\n"
     ]
    }
   ],
   "source": [
    "#help(np.dot)\n",
    "print np.dot(data[0],data[0])\n",
    "k = data_dict.keys()[0]\n",
    "print data_dict[k]['bonus']**2 + data_dict[k]['salary']**2\n",
    "print type( (data_dict[k]['salary']**2 + data_dict[k]['bonus']**2)**0.5 )\n",
    "# def findOutlier():\n",
    "#     # Find longest vector\n",
    "#     max_d = max( [ np.dot(u,u) for u in data] )\n",
    "\n",
    "#     # Find corresponding key for that vector\n",
    "#     for key in data_dict.keys():\n",
    "# \tsalary = data_dict[key]['salary']\n",
    "# \tbonus  = data_dict[key]['bonus']\n",
    "# \tif salary != 'NaN' and bonus != 'NaN' and abs(salary**2 + bonus **2 - max_d) < 0.01:\n",
    "# \t    return key\n"
   ]
  }
 ],
 "metadata": {
  "kernelspec": {
   "display_name": "Python 2",
   "name": "python2"
  },
  "name": "enron_outliers.ipynb"
 },
 "nbformat": 4,
 "nbformat_minor": 0
}
