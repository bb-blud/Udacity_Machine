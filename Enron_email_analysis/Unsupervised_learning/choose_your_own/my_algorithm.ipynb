{
 "cells": [
  {
   "cell_type": "code",
   "execution_count": 4,
   "metadata": {
    "autoscroll": "json-false",
    "collapsed": false,
    "ein.tags": [
     "worksheet-0"
    ]
   },
   "outputs": [
    {
     "name": "stdout",
     "output_type": "stream",
     "text": [
      "\n"
     ]
    },
    {
     "data": {
      "image/png": "[encoded data removed]",
      "text/plain": [
       "<matplotlib.figure.Figure at 0x7f622078d810>"
      ]
     },
     "metadata": {},
     "output_type": "display_data"
    }
   ],
   "source": [
    "#!/usr/bin/python\n",
    "import matplotlib.pyplot as plt\n",
    "from prep_terrain_data import makeTerrainData\n",
    "from class_vis import prettyPicture\n",
    "from time import time\n",
    "from sklearn.metrics import accuracy_score\n",
    "\n",
    "%matplotlib inline\n",
    "\n",
    "features_train, labels_train, features_test, labels_test = makeTerrainData()\n",
    "\n",
    "\n",
    "### the training data (features_train, labels_train) have both \"fast\" and \"slow\"\n",
    "### points mixed together--separate them so we can give them different colors\n",
    "### in the scatterplot and identify them visually\n",
    "grade_fast = [features_train[ii][0] for ii in range(0, len(features_train)) if labels_train[ii]==0]\n",
    "bumpy_fast = [features_train[ii][1] for ii in range(0, len(features_train)) if labels_train[ii]==0]\n",
    "grade_slow = [features_train[ii][0] for ii in range(0, len(features_train)) if labels_train[ii]==1]\n",
    "bumpy_slow = [features_train[ii][1] for ii in range(0, len(features_train)) if labels_train[ii]==1]\n",
    "\n",
    "\n",
    "#### initial visualization\n",
    "plt.xlim(0.0, 1.0)\n",
    "plt.ylim(0.0, 1.0)\n",
    "plt.scatter(bumpy_fast, grade_fast, color = \"b\", label=\"fast\")\n",
    "plt.scatter(grade_slow, bumpy_slow, color = \"r\", label=\"slow\")\n",
    "plt.legend()\n",
    "plt.xlabel(\"bumpiness\")\n",
    "plt.ylabel(\"grade\")\n",
    "plt.show()\n",
    "\n",
    "#######################\n",
    "\n",
    "\n"
   ]
  },
  {
   "cell_type": "code",
   "execution_count": 2,
   "metadata": {
    "autoscroll": "json-false",
    "collapsed": false,
    "ein.tags": [
     "worksheet-0"
    ]
   },
   "outputs": [
    {
     "name": "stdout",
     "output_type": "stream",
     "text": [
      "750\n"
     ]
    }
   ],
   "source": [
    "## Data and features\n",
    "print len(features_train)"
   ]
  },
  {
   "cell_type": "code",
   "execution_count": 3,
   "metadata": {
    "autoscroll": "json-false",
    "collapsed": false,
    "ein.tags": [
     "worksheet-0"
    ]
   },
   "outputs": [
    {
     "name": "stdout",
     "output_type": "stream",
     "text": [
      "Training time:  103.7 s\n",
      "Prediction time:  0.002 s\n",
      "Parameters: \n",
      "{'n_estimators': 15, 'learning_rate': 1.5}\n",
      "....\n",
      "\n",
      "AdaBoostClassifier(algorithm='SAMME.R',\n",
      "          base_estimator=DecisionTreeClassifier(class_weight=None, criterion='gini', max_depth=None,\n",
      "            max_features=None, max_leaf_nodes=None, min_samples_leaf=1,\n",
      "            min_samples_split=60, min_weight_fraction_leaf=0.0,\n",
      "            presort=False, random_state=None, splitter='best'),\n",
      "          learning_rate=1.5, n_estimators=15, random_state=None)\n",
      "....\n",
      "Accuracy score:  0.96\n",
      "---------------------\n"
     ]
    },
    {
     "name": "stdout",
     "output_type": "stream",
     "text": [
      "Training time:  104.697 s\n",
      "Prediction time:  0.002 s\n",
      "Parameters: \n",
      "{'n_estimators': 15, 'learning_rate': 0.3}\n",
      "....\n",
      "\n",
      "AdaBoostClassifier(algorithm='SAMME.R',\n",
      "          base_estimator=DecisionTreeClassifier(class_weight=None, criterion='gini', max_depth=None,\n",
      "            max_features=None, max_leaf_nodes=None, min_samples_leaf=1,\n",
      "            min_samples_split=50, min_weight_fraction_leaf=0.0,\n",
      "            presort=False, random_state=None, splitter='best'),\n",
      "          learning_rate=0.3, n_estimators=15, random_state=None)\n",
      "....\n",
      "Accuracy score:  0.96\n",
      "---------------------\n",
      "ms:  60\n"
     ]
    },
    {
     "name": "stdout",
     "output_type": "stream",
     "text": [
      "Training time:  104.816 s\n",
      "Prediction time:  0.002 s\n",
      "Parameters: \n",
      "{'n_estimators': 10, 'learning_rate': 0.3}\n",
      "....\n",
      "\n",
      "AdaBoostClassifier(algorithm='SAMME.R',\n",
      "          base_estimator=DecisionTreeClassifier(class_weight=None, criterion='gini', max_depth=None,\n",
      "            max_features=None, max_leaf_nodes=None, min_samples_leaf=1,\n",
      "            min_samples_split=30, min_weight_fraction_leaf=0.0,\n",
      "            presort=False, random_state=None, splitter='best'),\n",
      "          learning_rate=0.3, n_estimators=10, random_state=None)\n",
      "....\n",
      "Accuracy score:  0.958666666667\n",
      "---------------------\n",
      "ms:  50\n"
     ]
    },
    {
     "name": "stdout",
     "output_type": "stream",
     "text": [
      "Training time:  102.562 s\n",
      "Prediction time:  0.007 s\n",
      "Parameters: \n",
      "{'n_estimators': 30, 'learning_rate': 2.0}\n",
      "....\n",
      "\n",
      "AdaBoostClassifier(algorithm='SAMME.R',\n",
      "          base_estimator=DecisionTreeClassifier(class_weight=None, criterion='gini', max_depth=None,\n",
      "            max_features=None, max_leaf_nodes=None, min_samples_leaf=1,\n",
      "            min_samples_split=20, min_weight_fraction_leaf=0.0,\n",
      "            presort=False, random_state=None, splitter='best'),\n",
      "          learning_rate=2.0, n_estimators=30, random_state=None)\n",
      "....\n",
      "Accuracy score:  0.96\n",
      "---------------------\n",
      "ms:  30\n"
     ]
    },
    {
     "name": "stdout",
     "output_type": "stream",
     "text": [
      "Training time:  91.299 s\n",
      "Prediction time:  0.014 s\n",
      "Parameters: \n",
      "{'n_estimators': 100, 'learning_rate': 0.6}\n",
      "....\n",
      "\n",
      "AdaBoostClassifier(algorithm='SAMME.R',\n",
      "          base_estimator=DecisionTreeClassifier(class_weight=None, criterion='gini', max_depth=None,\n",
      "            max_features=None, max_leaf_nodes=None, min_samples_leaf=1,\n",
      "            min_samples_split=10, min_weight_fraction_leaf=0.0,\n",
      "            presort=False, random_state=None, splitter='best'),\n",
      "          learning_rate=0.6, n_estimators=100, random_state=None)\n",
      "....\n",
      "Accuracy score:  0.957333333333\n",
      "---------------------\n",
      "ms:  20\n"
     ]
    },
    {
     "name": "stdout",
     "output_type": "stream",
     "text": [
      "Training time:  78.346 s\n",
      "Prediction time:  0.003 s\n",
      "Parameters: \n",
      "{'n_estimators': 150, 'learning_rate': 0.6}\n",
      "....\n",
      "\n",
      "AdaBoostClassifier(algorithm='SAMME.R',\n",
      "          base_estimator=DecisionTreeClassifier(class_weight=None, criterion='gini', max_depth=None,\n",
      "            max_features=None, max_leaf_nodes=None, min_samples_leaf=1,\n",
      "            min_samples_split=5, min_weight_fraction_leaf=0.0,\n",
      "            presort=False, random_state=None, splitter='best'),\n",
      "          learning_rate=0.6, n_estimators=150, random_state=None)\n",
      "....\n",
      "Accuracy score:  0.957333333333\n",
      "---------------------\n",
      "ms:  10\n"
     ]
    },
    {
     "name": "stdout",
     "output_type": "stream",
     "text": [
      "ms:  5\n"
     ]
    }
   ],
   "source": [
    "################################################################################\n",
    "## Classification Algorithm\n",
    "from sklearn.ensemble import AdaBoostClassifier\n",
    "from sklearn.tree import DecisionTreeClassifier\n",
    "#\n",
    "## Grid Search\n",
    "from sklearn import grid_search\n",
    "# from sklearn.metrics import make_scorer\n",
    "# from sklearn.metrics import accuracy_score\n",
    "parameters = {'n_estimators':[10, 15, 20, 25, 30, 40, 50, 80, 100, 120, 150], 'learning_rate':[0.3, 0.6, 1.0, 1.5, 2.0, 3.0, 4.0]}\n",
    "for ms in [5, 10, 20, 30, 50, 60]:\n",
    "    print \"ms: \", ms\n",
    "    dt = DecisionTreeClassifier(min_samples_split = ms) ## Custom decision tree weak estimator\n",
    "    ada  = AdaBoostClassifier( base_estimator = dt )\n",
    "    clf = grid_search.GridSearchCV(ada, parameters, cv = 10)\n",
    "    \n",
    "    ## Training and Prediction\n",
    "    start = time()\n",
    "    clf.fit(features_train,labels_train)\n",
    "    print \"Training time: \", round( time() - start, 3), \"s\"\n",
    "    #\n",
    "    start = time()\n",
    "    pred = clf.predict(features_test)\n",
    "    print \"Prediction time: \", round( time() - start, 3), \"s\"\n",
    "    \n",
    "    ## Parameters\n",
    "    print \"Parameters: \"\n",
    "    print clf.best_params_\n",
    "    print '....'\n",
    "    print\n",
    "\n",
    "    ## Best estimator\n",
    "    print clf.best_estimator_\n",
    "    print '....' \n",
    "\n",
    "    ## Accuracy\n",
    "    print \"Accuracy score: \", clf.best_score_\n",
    "    print \"---------------------\"\n"
   ]
  },
  {
   "cell_type": "code",
   "execution_count": 19,
   "metadata": {
    "autoscroll": "json-false",
    "collapsed": false,
    "ein.tags": [
     "worksheet-0"
    ]
   },
   "outputs": [
    {
     "data": {
      "image/png": "[encoded data removed]",
      "text/plain": [
       "<matplotlib.figure.Figure at 0x7f260576b490>"
      ]
     },
     "metadata": {},
     "output_type": "display_data"
    },
    {
     "name": "stdout",
     "output_type": "stream",
     "text": [
      "Training time:  0.081 s\n",
      "Prediction time:  0.009 s\n",
      "Accuracy:  0.912\n"
     ]
    }
   ],
   "source": [
    "## Confirm GridSearch's find, failed to produce the accuracy seen in the gridsearch\n",
    "from sklearn.ensemble import AdaBoostClassifier\n",
    "from sklearn.tree import DecisionTreeClassifier\n",
    "#\n",
    "## From above\n",
    "clf = AdaBoostClassifier(algorithm='SAMME.R',\n",
    "          base_estimator=DecisionTreeClassifier(class_weight=None, criterion='gini', max_depth=None,\n",
    "            max_features=None, max_leaf_nodes=None, min_samples_leaf=1,\n",
    "            min_samples_split=20, min_weight_fraction_leaf=0.0,\n",
    "            presort=False, random_state=None, splitter='best'),\n",
    "          learning_rate=2.0, n_estimators=30, random_state=None)\n",
    "\n",
    "## Training and Prediction\n",
    "start = time()\n",
    "clf.fit(features_train,labels_train)\n",
    "print \"Training time: \", round( time() - start, 3), \"s\"\n",
    "#\n",
    "start = time()\n",
    "pred = clf.predict(features_test)\n",
    "print \"Prediction time: \", round( time() - start, 3), \"s\"\n",
    "\n",
    "## Accuracy\n",
    "print \"Accuracy: \", accuracy_score(labels_test, pred)\n",
    "    \n",
    "\n",
    "try:\n",
    "    prettyPicture(clf, features_test, labels_test)\n",
    "except NameError:\n",
    "    pass\n"
   ]
  },
  {
   "cell_type": "code",
   "execution_count": 26,
   "metadata": {
    "autoscroll": "json-false",
    "collapsed": false,
    "ein.tags": [
     "worksheet-0"
    ]
   },
   "outputs": [
    {
     "data": {
      "image/png": "[encoded data removed]",
      "text/plain": [
       "<matplotlib.figure.Figure at 0x7f621e291b10>"
      ]
     },
     "metadata": {},
     "output_type": "display_data"
    },
    {
     "name": "stdout",
     "output_type": "stream",
     "text": [
      "Training time:  0.548 s\n",
      "Prediction time:  0.001 s\n",
      "Accuracy:  0.924\n",
      "what a fail\n"
     ]
    }
   ],
   "source": [
    "##Trying withh SVC\n",
    "import numpy as np\n",
    "from sklearn import grid_search\n",
    "from sklearn.svm import SVC\n",
    "from sklearn.metrics import make_scorer\t\n",
    "\n",
    "# scorer = make_scorer(accuracy_score)\n",
    "\n",
    "# parameters = {'C':np.arange(50,100, 3), 'kernel': ['linear', 'poly', 'rbf'], 'degree': [2,3,4,5], 'class_weight':['balanced', ''], \n",
    "# \t     'decision_function_shape':['ovo','ovr'], 'coef0':np.arange(0.0, 20, .5) }\n",
    "# svc = SVC()\n",
    "# clf = grid_search.GridSearchCV(svc, parameters, scorer, n_jobs = 4, cv = 10)\n",
    "## After running the above commented code (Training time:  10790.874 s)\n",
    "clf = SVC(C=98, cache_size=200, class_weight='', coef0=5.5,\n",
    "  decision_function_shape='ovo', degree=5, gamma='auto', kernel='poly',\n",
    "  max_iter=-1, probability=False, random_state=None, shrinking=True,\n",
    "  tol=0.001, verbose=False)\n",
    "\n",
    "## Training and Prediction\n",
    "start = time()\n",
    "clf.fit(features_train,labels_train)\n",
    "print \"Training time: \", round( time() - start, 3), \"s\"\n",
    "#\n",
    "#print clf.best_estimator_ #uncomment for grid search\n",
    "start = time()\n",
    "pred = clf.predict(features_test)\n",
    "print \"Prediction time: \", round( time() - start, 3), \"s\"\n",
    "\n",
    "## Accuracy\n",
    "print \"Accuracy: \", accuracy_score(labels_test, pred)\n",
    "    \n",
    "\n",
    "try:\n",
    "    prettyPicture(clf, features_test, labels_test)\n",
    "except NameError:\n",
    "    pass\n",
    "print 'what a fail'\n",
    "\n"
   ]
  }
 ],
 "metadata": {
  "kernelspec": {
   "display_name": "Python 2",
   "name": "python2"
  },
  "name": "my_algorithm.ipynb"
 },
 "nbformat": 4,
 "nbformat_minor": 0
}
