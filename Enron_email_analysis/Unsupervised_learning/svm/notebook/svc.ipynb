{
 "cells": [
  {
   "cell_type": "code",
   "execution_count": 1,
   "metadata": {
    "autoscroll": "json-false",
    "collapsed": false,
    "ein.tags": [
     "worksheet-0"
    ]
   },
   "outputs": [
    {
     "name": "stdout",
     "output_type": "stream",
     "text": [
      "no. of Chris training emails: 7936\n",
      "no. of Sara training emails: 7884\n",
      "Hey!!\n"
     ]
    }
   ],
   "source": [
    "#!/usr/bin/python\n",
    "\n",
    "\"\"\" \n",
    "    This is the code to accompany the Lesson 2 (SVM) mini-project.\n",
    "\n",
    "    Use a SVM to identify emails from the Enron corpus by their authors:    \n",
    "    Sara has label 0\n",
    "    Chris has label 1\n",
    "\"\"\"\n",
    "    \n",
    "import sys\n",
    "from time import time\n",
    "sys.path.append(\"../../tools/\")\n",
    "from email_preprocess import preprocess\n",
    "\n",
    "\n",
    "### features_train and features_test are the features for the training\n",
    "### and testing datasets, respectively\n",
    "### labels_train and labels_test are the corresponding item labels\n",
    "features_train, features_test, labels_train, labels_test = preprocess()\n",
    "print \"Hey!!\""
   ]
  },
  {
   "cell_type": "code",
   "execution_count": 2,
   "metadata": {
    "autoscroll": "json-false",
    "collapsed": false,
    "ein.tags": [
     "worksheet-0"
    ]
   },
   "outputs": [
    {
     "name": "stdout",
     "output_type": "stream",
     "text": [
      "3785 1758\n"
     ]
    }
   ],
   "source": [
    "print len(features_train[0]), len(features_test)"
   ]
  },
  {
   "cell_type": "code",
   "execution_count": 19,
   "metadata": {
    "autoscroll": "json-false",
    "collapsed": false,
    "ein.tags": [
     "worksheet-0"
    ]
   },
   "outputs": [
    {
     "name": "stdout",
     "output_type": "stream",
     "text": [
      "1758\n",
      "1758\n",
      "15820\n",
      "15820\n",
      "Hey!!\n"
     ]
    }
   ],
   "source": [
    "## Limit training and test size\n",
    "def shrink(l, fraction):\n",
    "    bound = int(len(l)*fraction)\n",
    "    return l[:bound]\n",
    "\n",
    "d = {'X_tr':features_train, 'X_t':features_test, 'y_tr':labels_train, 'y_t':labels_test}\n",
    "fraction = 1.0\n",
    "d = {k : shrink(d[k],fraction) if k == 'X_tr' or k == 'y_tr' else d[k] for k in d}\n",
    "\n",
    "for k in d:\n",
    "    print len(d[k])\n",
    "print \"Hey!!\""
   ]
  },
  {
   "cell_type": "code",
   "execution_count": 20,
   "metadata": {
    "autoscroll": "json-false",
    "collapsed": false,
    "ein.tags": [
     "worksheet-0"
    ]
   },
   "outputs": [
    {
     "name": "stdout",
     "output_type": "stream",
     "text": [
      "predict time:  10.362 s\n",
      "Accuracy:  0.990898748578\n",
      "-------------------\n",
      "\n",
      "Hey!!\n"
     ]
    },
    {
     "name": "stdout",
     "output_type": "stream",
     "text": [
      "training time:  102.002 s\n"
     ]
    },
    {
     "name": "stdout",
     "output_type": "stream",
     "text": [
      "kernel:  rbf  C: 10000.0\n"
     ]
    }
   ],
   "source": [
    "## SVC\n",
    "from sklearn.svm import SVC\n",
    "from sklearn.metrics import accuracy_score\n",
    "\n",
    "for c in [10000.]:#[10., 100., 1000., 10000.]:\n",
    "    \n",
    "    clf = SVC(kernel='rbf', C = c)\n",
    "    params = clf.get_params(deep=False)\n",
    "    print \"kernel: \", params['kernel'], \" C:\", params['C']\n",
    "    \n",
    "    ### Train and predict\n",
    "    start = time()\n",
    "    clf.fit(d['X_tr'], d['y_tr'])\n",
    "    print \"training time: \" , round(time() - start, 3), \"s\"\n",
    "\n",
    "    start = time()\n",
    "    pred = clf.predict(d['X_t'])\n",
    "    print \"predict time: \", round(time() - start, 3), \"s\"\n",
    "    ##\n",
    "    \n",
    "    ## Accuracy \n",
    "    print \"Accuracy: \", accuracy_score(d['y_t'], pred)\n",
    "    print '-------------------'\n",
    "    print\n",
    "    \n",
    "\n",
    "print \"Hey!!\""
   ]
  },
  {
   "cell_type": "code",
   "execution_count": 21,
   "metadata": {
    "autoscroll": "json-false",
    "collapsed": false,
    "ein.tags": [
     "worksheet-0"
    ]
   },
   "outputs": [
    {
     "name": "stdout",
     "output_type": "stream",
     "text": [
      "10 --> Chris\n",
      "26 --> Sara\n",
      "50 --> Chris\n",
      "no. in Chris class:  877\n",
      "no. in Sara class:  881\n"
     ]
    }
   ],
   "source": [
    "## Predictions\n",
    "for i in [10,26,50]:\n",
    "    print i, \"-->\", \"Chris\" if pred[i] == 1 else \"Sara\"\n",
    "\n",
    "print \"no. in Chris class: \" , sum(pred)\n",
    "print \"no. in Sara class: \", sum( [1 for p in pred if p ==0] )"
   ]
  }
 ],
 "metadata": {
  "kernelspec": {
   "display_name": "Python 2",
   "name": "python2"
  },
  "language_info": {
   "codemirror_mode": {
    "name": "ipython",
    "version": 2
   },
   "file_extension": ".py",
   "mimetype": "text/x-python",
   "name": "python",
   "nbconvert_exporter": "python",
   "pygments_lexer": "ipython2",
   "version": "2.7.11"
  },
  "name": "svc.ipynb"
 },
 "nbformat": 4,
 "nbformat_minor": 0
}
