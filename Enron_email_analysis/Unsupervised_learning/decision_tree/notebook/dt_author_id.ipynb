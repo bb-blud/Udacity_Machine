{
 "cells": [
  {
   "cell_type": "code",
   "execution_count": 1,
   "metadata": {
    "autoscroll": "json-false",
    "collapsed": false,
    "ein.tags": [
     "worksheet-0"
    ]
   },
   "outputs": [
    {
     "name": "stdout",
     "output_type": "stream",
     "text": [
      "no. of Chris training emails: 7936\n",
      "no. of Sara training emails: 7884\n",
      "Hey!\n"
     ]
    }
   ],
   "source": [
    "#!/usr/bin/python\n",
    "\n",
    "\"\"\" \n",
    "    This is the code to accompany the Lesson 3 (decision tree) mini-project.\n",
    "\n",
    "    Use a Decision Tree to identify emails from the Enron corpus by author:    \n",
    "    Sara has label 0\n",
    "    Chris has label 1\n",
    "\"\"\"\n",
    "    \n",
    "import sys\n",
    "from time import time\n",
    "#sys.path.append(\"../../tools/\")\n",
    "from email_preprocess import preprocess\n",
    "\n",
    "### features_train and features_test are the features for the training\n",
    "### and testing datasets, respectively\n",
    "### labels_train and labels_test are the corresponding item labels\n",
    "features_train, features_test, labels_train, labels_test = preprocess()\n",
    "print \"Hey!\""
   ]
  },
  {
   "cell_type": "code",
   "execution_count": 2,
   "metadata": {
    "autoscroll": "json-false",
    "collapsed": false,
    "ein.tags": [
     "worksheet-0"
    ]
   },
   "outputs": [
    {
     "name": "stdout",
     "output_type": "stream",
     "text": [
      "(15820, 379)\n"
     ]
    }
   ],
   "source": [
    "## Data and features\n",
    "print features_train.shape"
   ]
  },
  {
   "cell_type": "code",
   "execution_count": 3,
   "metadata": {
    "autoscroll": "json-false",
    "collapsed": false,
    "ein.tags": [
     "worksheet-0"
    ]
   },
   "outputs": [
    {
     "name": "stdout",
     "output_type": "stream",
     "text": [
      "1758\n",
      "1758\n",
      "15820\n",
      "15820\n",
      "Hey!\n"
     ]
    }
   ],
   "source": [
    "## Limit training and test size\n",
    "def shrink(l, fraction):\n",
    "    bound = int(len(l)*fraction)\n",
    "    return l[:bound]\n",
    "\n",
    "d = {'X_tr':features_train, 'X_t':features_test, 'y_tr':labels_train, 'y_t':labels_test}\n",
    "fraction = 1.0\n",
    "d = {k : shrink(d[k],fraction) if k == 'X_tr' or k == 'y_tr' else d[k] for k in d}\n",
    "\n",
    "for k in d:\n",
    "    print len(d[k])\n",
    "print \"Hey!\""
   ]
  },
  {
   "cell_type": "code",
   "execution_count": 5,
   "metadata": {
    "autoscroll": "json-false",
    "collapsed": false,
    "ein.tags": [
     "worksheet-0"
    ]
   },
   "outputs": [
    {
     "name": "stdout",
     "output_type": "stream",
     "text": [
      "Training time:  2.975 s\n",
      "Prediction time:  0.002 s\n",
      "Accuracy:  0.967007963595\n",
      "--------------------\n",
      "Hey!\n"
     ]
    }
   ],
   "source": [
    "## DecisionTree Classifier\n",
    "from sklearn.tree import DecisionTreeClassifier\n",
    "from sklearn.metrics import accuracy_score\n",
    "\n",
    "clf = DecisionTreeClassifier(min_samples_split = 40)\n",
    "\n",
    "## Training and Prediction\n",
    "start = time()\n",
    "clf.fit(d['X_tr'], d['y_tr'])\n",
    "print \"Training time: \", round( time() - start, 3), \"s\"\n",
    "\n",
    "start = time()\n",
    "pred = clf.predict(d['X_t'])\n",
    "print \"Prediction time: \", round( time() - start, 3), \"s\"\n",
    "\n",
    "## Accuracy \n",
    "print \"Accuracy: \", accuracy_score(d['y_t'], pred)\n",
    "print '--------------------'\n",
    "\n",
    "print \"Hey!\""
   ]
  }
 ],
 "metadata": {
  "kernelspec": {
   "display_name": "Python 2",
   "name": "python2"
  },
  "name": "dt_author_id.ipynb"
 },
 "nbformat": 4,
 "nbformat_minor": 0
}
