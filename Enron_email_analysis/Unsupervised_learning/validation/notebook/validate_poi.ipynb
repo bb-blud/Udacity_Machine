{
 "cells": [
  {
   "cell_type": "code",
   "execution_count": 27,
   "metadata": {
    "collapsed": false
   },
   "outputs": [
    {
     "name": "stdout",
     "output_type": "stream",
     "text": [
      "Accuracy:  0.724137931034\n",
      "\n",
      "Test set:\n",
      "no. of people:  29\n",
      "no. of Poi's predicted:  4.0\n",
      "no. of true Poi's:  4.0\n",
      "no. of true Poi predictions:  0\n",
      "\n",
      "Accuracty on test set:  0.862068965517\n",
      "Precision score:  0.0\n",
      "Recall score:  0.0\n"
     ]
    }
   ],
   "source": [
    "#!/usr/bin/python\n",
    "\"\"\"\n",
    "    Starter code for the validation mini-project.\n",
    "    The first step toward building your POI identifier!\n",
    "\n",
    "    Start by loading/formatting the data\n",
    "\n",
    "    After that, it's not our code anymore--it's yours!\n",
    "\"\"\"\n",
    "import numpy as np\n",
    "import pickle\n",
    "import sys\n",
    "sys.path.append(\"../../tools/\")\n",
    "from feature_format import featureFormat, targetFeatureSplit\n",
    "\n",
    "data_dict = pickle.load(open(\"../../final_project/final_project_dataset.pkl\", \"r\") )\n",
    "\n",
    "### first element is our labels, any added elements are predictor\n",
    "### features. Keep this the same for the mini-project, but you'll\n",
    "### have a different feature list when you do the final project.\n",
    "features_list = [\"poi\", \"salary\"]\n",
    "\n",
    "data = featureFormat(data_dict, features_list)\n",
    "labels, features = targetFeatureSplit(data)\n",
    "\n",
    "### it's all yours from here forward!  \n",
    "\n",
    "##Training tree classifier, classifies poi based on salary\n",
    "from sklearn.cross_validation import train_test_split\n",
    "from sklearn.tree import DecisionTreeClassifier\n",
    "\n",
    "X_train, X_test, y_train, y_test = train_test_split(features, labels, test_size = .30, random_state =42)\n",
    "\n",
    "clf = DecisionTreeClassifier()\n",
    "clf.fit(X_train, y_train)\n",
    "\n",
    "## Accuracy\n",
    "print \"Accuracy: \", clf.score(X_test, y_test)\n",
    "print\n",
    "\n",
    "## Predictions vector\n",
    "pred = clf.predict(X_test, y_test)\n",
    "\n",
    "## Poi predictions\n",
    "print \"Test set:\"\n",
    "print \"no. of people: \", len(pred)\n",
    "print \"no. of Poi's predicted: \", sum(pred)\n",
    "print \"no. of true Poi's: \", sum(y_test)\n",
    "print \"no. of true Poi predictions: \", sum([1 for correct in y_test+pred if correct == 2.])\n",
    "print\n",
    "##\n",
    "\n",
    "## Precision and Recall\n",
    "from sklearn.metrics import precision_score, recall_score\n",
    "print \"Accuracty on test set: \", 25./29\n",
    "print \"Precision score: \", precision_score(y_test, pred)\n",
    "print \"Recall score: \", recall_score(y_test, pred)\n",
    "# help(precision_score)"
   ]
  },
  {
   "cell_type": "code",
   "execution_count": 36,
   "metadata": {
    "collapsed": false
   },
   "outputs": [
    {
     "name": "stdout",
     "output_type": "stream",
     "text": [
      "6\n",
      "9\n",
      "3\n",
      "2\n",
      "precision:  0.666666666667\n",
      "recall:  0.75\n"
     ]
    }
   ],
   "source": [
    "## Made up predictions and labels\n",
    "predictions = np.array([0, 1, 1, 0, 0, 0, 1, 0, 1, 0, 0, 1, 0, 0, 1, 1, 0, 1, 0, 1] )\n",
    "true_labels = np.array([0, 0, 0, 0, 0, 0, 1, 0, 1, 1, 0, 1, 0, 1, 1, 1, 0, 1, 0, 0])\n",
    "## True pos\n",
    "true_pos = sum([1 for t in predictions+true_labels if t == 2])\n",
    "print true_pos\n",
    "## True neg\n",
    "true_neg =sum([1 for t in predictions+true_labels if t == 0])\n",
    "print true_neg\n",
    "## False pos\n",
    "false_pos = sum([1 for i, p in enumerate(predictions) if p == 1. and true_labels[i] == 0])\n",
    "print false_pos\n",
    "## False neg\n",
    "false_neg =sum([1 for i, p in enumerate(predictions) if p == 0. and true_labels[i] == 1])\n",
    "print false_neg\n",
    "\n",
    "#Precision\n",
    "print \"precision: \", 1.*true_pos/(true_pos + false_pos)\n",
    "print \"recall: \", 1.*true_pos/(true_pos + false_neg)\n"
   ]
  },
  {
   "cell_type": "code",
   "execution_count": null,
   "metadata": {
    "collapsed": true
   },
   "outputs": [],
   "source": []
  }
 ],
 "metadata": {
  "kernelspec": {
   "display_name": "Python 2",
   "language": "python",
   "name": "python2"
  },
  "language_info": {
   "codemirror_mode": {
    "name": "ipython",
    "version": 2
   },
   "file_extension": ".py",
   "mimetype": "text/x-python",
   "name": "python",
   "nbconvert_exporter": "python",
   "pygments_lexer": "ipython2",
   "version": "2.7.11"
  }
 },
 "nbformat": 4,
 "nbformat_minor": 0
}
